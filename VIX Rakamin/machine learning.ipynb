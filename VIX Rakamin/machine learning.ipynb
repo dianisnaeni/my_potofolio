{
 "cells": [
  {
   "cell_type": "code",
   "execution_count": null,
   "id": "ca335e6f",
   "metadata": {},
   "outputs": [],
   "source": [
    "import pandas as pd\n",
    "import numpy as np\n",
    "\n",
    "from dataprep.eda import plot\n",
    "import warnings\n",
    "warnings.filterwarnings('ignore')"
   ]
  },
  {
   "cell_type": "code",
   "execution_count": null,
   "id": "92108ae7",
   "metadata": {},
   "outputs": [],
   "source": [
    "df_1 = pd.read_csv(\"application_train.csv\")\n",
    "df_2 = pd.read_csv(\"application_test.csv\")"
   ]
  },
  {
   "cell_type": "markdown",
   "id": "2bec7060",
   "metadata": {},
   "source": [
    "### Quick EDA"
   ]
  },
  {
   "cell_type": "code",
   "execution_count": null,
   "id": "62098b10",
   "metadata": {
    "scrolled": true
   },
   "outputs": [],
   "source": [
    "#eda semua data masih ada nilai NaN\n",
    "plot(df_1)"
   ]
  },
  {
   "cell_type": "code",
   "execution_count": null,
   "id": "8a41f57b",
   "metadata": {},
   "outputs": [],
   "source": [
    "#menghapus nilai NaN\n",
    "df_1.dropna(inplace=True)\n",
    "df_2.dropna(inplace=True)"
   ]
  },
  {
   "cell_type": "code",
   "execution_count": null,
   "id": "29f9c313",
   "metadata": {},
   "outputs": [],
   "source": [
    "import matplotlib.pyplot as plt\n",
    "import seaborn as sns\n",
    "%matplotlib inline\n"
   ]
  },
  {
   "cell_type": "code",
   "execution_count": null,
   "id": "5c3b8517",
   "metadata": {
    "scrolled": false
   },
   "outputs": [],
   "source": [
    "plot(df_1,\"OCCUPATION_TYPE\")"
   ]
  },
  {
   "cell_type": "code",
   "execution_count": null,
   "id": "d1398ea6",
   "metadata": {
    "scrolled": true
   },
   "outputs": [],
   "source": [
    "plt.figure(figsize=[15,18])\n",
    "\n",
    "features=['CODE_GENDER','NAME_EDUCATION_TYPE','OCCUPATION_TYPE','CNT_CHILDREN','NAME_FAMILY_STATUS','CNT_FAM_MEMBERS']\n",
    "n=1\n",
    "\n",
    "for f in features:\n",
    "    plt.subplot(3,2,n)\n",
    "    order=df_1[f].value_counts().index\n",
    "    sns.countplot(y=df_1[f],order=order);\n",
    "    sns.despine()\n",
    "    plt.title(\"Countplot of {}\".format(f))\n",
    "    n=n+1\n",
    "plt.tight_layout()"
   ]
  },
  {
   "cell_type": "code",
   "execution_count": null,
   "id": "e797d13c",
   "metadata": {},
   "outputs": [],
   "source": [
    "plot(df_1,\"TARGET\")"
   ]
  },
  {
   "cell_type": "code",
   "execution_count": null,
   "id": "22997b20",
   "metadata": {},
   "outputs": [],
   "source": [
    "plot(df_1,\"AMT_CREDIT\")"
   ]
  },
  {
   "cell_type": "markdown",
   "id": "653fd5f2",
   "metadata": {},
   "source": [
    "memangkas data yang tidak diperlukan merujuk ke data AMT_CREDIT [Credit amount of the loan] atau tren jumlah pinjaman yang di pinjam oleh peminjam karna distribusi menujukan bahwa kebanyakan peminjam meminjam tidak lebih dari 900k"
   ]
  },
  {
   "cell_type": "code",
   "execution_count": null,
   "id": "5ee09bbc",
   "metadata": {},
   "outputs": [],
   "source": [
    "train= df_1.drop(['DAYS_BIRTH','DAYS_REGISTRATION','DAYS_ID_PUBLISH','FLAG_EMP_PHONE','FLAG_WORK_PHONE','FLAG_CONT_MOBILE','FLAG_PHONE','FLAG_EMAIL','REGION_RATING_CLIENT','REGION_RATING_CLIENT_W_CITY','REG_REGION_NOT_LIVE_REGION','REG_REGION_NOT_WORK_REGION','LIVE_REGION_NOT_WORK_REGION','REG_CITY_NOT_LIVE_CITY','REG_CITY_NOT_WORK_CITY','LIVE_CITY_NOT_WORK_CITY','EXT_SOURCE_1','EXT_SOURCE_2','EXT_SOURCE_3','APARTMENTS_AVG','BASEMENTAREA_AVG','YEARS_BEGINEXPLUATATION_AVG','YEARS_BUILD_AVG','COMMONAREA_AVG','ELEVATORS_AVG','ENTRANCES_AVG','FLOORSMAX_AVG','FLOORSMIN_AVG','FLOORSMIN_AVG','LIVINGAPARTMENTS_AVG','LIVINGAREA_AVG','NONLIVINGAPARTMENTS_AVG','NONLIVINGAREA_AVG','APARTMENTS_MODE','BASEMENTAREA_MODE','YEARS_BEGINEXPLUATATION_MODE','YEARS_BUILD_MODE','YEARS_BUILD_MODE','ELEVATORS_MODE','ENTRANCES_MODE','ENTRANCES_MODE','FLOORSMAX_MODE','FLOORSMIN_MODE','LANDAREA_MODE','LIVINGAPARTMENTS_MODE','LIVINGAREA_MODE','NONLIVINGAPARTMENTS_MODE','NONLIVINGAREA_MODE','APARTMENTS_MEDI','BASEMENTAREA_MEDI','YEARS_BEGINEXPLUATATION_MEDI','YEARS_BUILD_MEDI','COMMONAREA_MEDI','ELEVATORS_MEDI','ENTRANCES_MEDI','FLOORSMAX_MEDI','FLOORSMIN_MEDI','LANDAREA_MEDI','LIVINGAPARTMENTS_MEDI','LIVINGAREA_MEDI','NONLIVINGAPARTMENTS_MEDI','NONLIVINGAREA_MEDI','FONDKAPREMONT_MODE','HOUSETYPE_MODE','TOTALAREA_MODE','WALLSMATERIAL_MODE','EMERGENCYSTATE_MODE','OBS_30_CNT_SOCIAL_CIRCLE','DEF_30_CNT_SOCIAL_CIRCLE','OBS_60_CNT_SOCIAL_CIRCLE','DEF_60_CNT_SOCIAL_CIRCLE','DAYS_LAST_PHONE_CHANGE','FLAG_DOCUMENT_2','FLAG_DOCUMENT_3','FLAG_DOCUMENT_4','FLAG_DOCUMENT_5','FLAG_DOCUMENT_6','FLAG_DOCUMENT_7','FLAG_DOCUMENT_8','FLAG_DOCUMENT_9','FLAG_DOCUMENT_10','FLAG_DOCUMENT_11','FLAG_DOCUMENT_12','FLAG_DOCUMENT_13','FLAG_DOCUMENT_14','FLAG_DOCUMENT_15','FLAG_DOCUMENT_16','FLAG_DOCUMENT_17','FLAG_DOCUMENT_18','FLAG_DOCUMENT_19','FLAG_DOCUMENT_20','FLAG_DOCUMENT_21','LANDAREA_AVG','COMMONAREA_MODE','HOUR_APPR_PROCESS_START'],axis=1)"
   ]
  },
  {
   "cell_type": "markdown",
   "id": "afbda108",
   "metadata": {},
   "source": [
    "### Data Prepocessing"
   ]
  },
  {
   "cell_type": "code",
   "execution_count": null,
   "id": "2c80df1e",
   "metadata": {},
   "outputs": [],
   "source": [
    "from sklearn.impute import SimpleImputer\n",
    "from sklearn.preprocessing import OneHotEncoder\n",
    "from sklearn.preprocessing import PowerTransformer\n",
    "from sklearn.compose import ColumnTransformer\n",
    "\n",
    "from sklearn.naive_bayes import GaussianNB\n",
    "from sklearn.ensemble import GradientBoostingClassifier\n",
    "from sklearn.ensemble import AdaBoostClassifier\n",
    "from sklearn.linear_model import LogisticRegression\n",
    "from sklearn.ensemble import RandomForestClassifier\n",
    "from sklearn.neighbors import KNeighborsClassifier"
   ]
  },
  {
   "cell_type": "code",
   "execution_count": null,
   "id": "960411e8",
   "metadata": {},
   "outputs": [],
   "source": [
    "X=train.drop(columns=['SK_ID_CURR','OCCUPATION_TYPE','TARGET'],axis=1)\n",
    "y=train['TARGET']"
   ]
  },
  {
   "cell_type": "code",
   "execution_count": null,
   "id": "b2c79914",
   "metadata": {},
   "outputs": [],
   "source": [
    "#numerical columns\n",
    "num=X.select_dtypes(exclude='object').columns\n",
    "\n",
    "#categorical columns\n",
    "cat=X.select_dtypes(include='object').columns"
   ]
  },
  {
   "cell_type": "code",
   "execution_count": null,
   "id": "c9add8b4",
   "metadata": {},
   "outputs": [],
   "source": [
    "impute=SimpleImputer(strategy='most_frequent')\n",
    "\n",
    "Xc=impute.fit_transform(X[cat])"
   ]
  },
  {
   "cell_type": "code",
   "execution_count": null,
   "id": "b173f80c",
   "metadata": {},
   "outputs": [],
   "source": [
    "encoding=OneHotEncoder()\n",
    "\n",
    "Xc=encoding.fit_transform(Xc)"
   ]
  },
  {
   "cell_type": "code",
   "execution_count": null,
   "id": "bea7ec26",
   "metadata": {},
   "outputs": [],
   "source": [
    "transform=PowerTransformer()\n",
    "\n",
    "Xn=transform.fit_transform(X[num])"
   ]
  },
  {
   "cell_type": "markdown",
   "id": "f1bb5abe",
   "metadata": {},
   "source": [
    "### Feature Selection"
   ]
  },
  {
   "cell_type": "code",
   "execution_count": null,
   "id": "4985c6f2",
   "metadata": {},
   "outputs": [],
   "source": [
    "from sklearn.feature_selection import SelectKBest\n",
    "from sklearn.feature_selection import chi2\n",
    "from sklearn.feature_selection import mutual_info_classif"
   ]
  },
  {
   "cell_type": "code",
   "execution_count": null,
   "id": "6276b40b",
   "metadata": {},
   "outputs": [],
   "source": [
    "fs=SelectKBest(score_func=chi2,k='all')\n",
    "fs.fit(Xc,y)\n",
    "#chi square method is used to test for independence of categorical variables\n",
    "\n",
    "plt.figure(figsize=(12,8))\n",
    "plt.bar([i for i in range(len(fs.scores_))],fs.scores_);"
   ]
  },
  {
   "cell_type": "markdown",
   "id": "c51f4e9a",
   "metadata": {},
   "source": [
    "### Model Evaluation Metric"
   ]
  },
  {
   "cell_type": "code",
   "execution_count": null,
   "id": "ccf9caa1",
   "metadata": {},
   "outputs": [],
   "source": [
    "from sklearn.model_selection import RepeatedStratifiedKFold\n",
    "from sklearn.model_selection import cross_val_score\n",
    "from sklearn.metrics import auc\n",
    "from sklearn.metrics import roc_auc_score\n",
    "from sklearn.metrics import roc_curve"
   ]
  },
  {
   "cell_type": "code",
   "execution_count": null,
   "id": "5695dd7a",
   "metadata": {},
   "outputs": [],
   "source": [
    "def evaluate(X,y,model):\n",
    "    cv=RepeatedStratifiedKFold(n_splits=5, n_repeats=3, random_state=1)\n",
    "    scores = cross_val_score(model, X, y, scoring='roc_auc', cv=cv, n_jobs=-1)\n",
    "    \n",
    "    return scores"
   ]
  },
  {
   "cell_type": "markdown",
   "id": "66873ff8",
   "metadata": {},
   "source": [
    "### Test to determine k parameter for feature selection ###"
   ]
  },
  {
   "cell_type": "code",
   "execution_count": null,
   "id": "9882129d",
   "metadata": {},
   "outputs": [],
   "source": [
    "results=[]\n",
    "Xc=Xc.toarray()\n",
    "\n",
    "for i in range(15,30):\n",
    "    fs=SelectKBest(score_func=chi2,k=i)\n",
    "    fs.fit(Xc,y)\n",
    "    \n",
    "    Xfs=fs.transform(Xc)\n",
    "    X=np.concatenate([Xn,Xfs],axis=1)\n",
    "    \n",
    "    results.append(evaluate(X,y,LogisticRegression()))\n",
    "    \n",
    "plt.figure(figsize=(12,8))\n",
    "plt.boxplot(results,labels=range(15,30),showmeans=True);"
   ]
  },
  {
   "cell_type": "code",
   "execution_count": null,
   "id": "c0ab0675",
   "metadata": {},
   "outputs": [],
   "source": [
    "fs=SelectKBest(score_func=chi2,k=23)\n",
    "fs.fit(Xc,y)\n",
    "\n",
    "Xfs=fs.transform(Xc)\n",
    "X=np.concatenate([Xn,Xfs],axis=1)\n",
    "\n",
    "X.shape"
   ]
  },
  {
   "cell_type": "markdown",
   "id": "a504960a",
   "metadata": {},
   "source": [
    "### SPOT CHECKING ALGHORITHM"
   ]
  },
  {
   "cell_type": "code",
   "execution_count": null,
   "id": "1f3f6966",
   "metadata": {},
   "outputs": [],
   "source": [
    "def get_models():\n",
    "    \n",
    "    models=[]\n",
    "    names=[]\n",
    "    \n",
    "    models.append(LogisticRegression())\n",
    "    names.append('lr') \n",
    "                  \n",
    "    models.append(RandomForestClassifier())\n",
    "    names.append('rf')              \n",
    "                  \n",
    "    models.append(KNeighborsClassifier())\n",
    "    names.append('knn')\n",
    "    \n",
    "    models.append(GaussianNB())\n",
    "    names.append('nb')\n",
    "    \n",
    "    models.append(AdaBoostClassifier())\n",
    "    names.append('adb')\n",
    "    \n",
    "    models.append(GradientBoostingClassifier())\n",
    "    names.append('grb')\n",
    "\n",
    "    return models,names"
   ]
  },
  {
   "cell_type": "code",
   "execution_count": null,
   "id": "07011ab8",
   "metadata": {},
   "outputs": [],
   "source": [
    "results=[]\n",
    "model,names=get_models()\n",
    "\n",
    "for i in range(len(model)):\n",
    "    results.append(evaluate(X,y,model[i]))\n",
    "    \n",
    "for i in range(len(results)):\n",
    "    print(f'{names[i]}: {results[i].mean()}, {(results[i].std())}')"
   ]
  },
  {
   "cell_type": "code",
   "execution_count": null,
   "id": "f25e1ac1",
   "metadata": {},
   "outputs": [],
   "source": [
    "plt.figure(figsize=(12,8))\n",
    "plt.boxplot(results,labels=names,showmeans=True);"
   ]
  },
  {
   "cell_type": "markdown",
   "id": "3cc6329c",
   "metadata": {},
   "source": [
    "**Correcting Class Imbalance**"
   ]
  },
  {
   "cell_type": "code",
   "execution_count": null,
   "id": "cd0d93e2",
   "metadata": {},
   "outputs": [],
   "source": [
    "from imblearn.under_sampling import TomekLinks\n",
    "from imblearn.under_sampling import EditedNearestNeighbours\n",
    "from imblearn.combine import SMOTETomek\n",
    "from imblearn.pipeline import Pipeline"
   ]
  },
  {
   "cell_type": "code",
   "execution_count": null,
   "id": "2a8c9218",
   "metadata": {},
   "outputs": [],
   "source": [
    "resample=SMOTETomek(tomek=TomekLinks(sampling_strategy='majority'))\n",
    "X_res,y_res=resample.fit_resample(X,y)\n",
    "\n",
    "results=[]\n",
    "model,names=get_models()\n",
    "\n",
    "for i in range(len(model)):\n",
    "    results.append(evaluate(X_res,y_res,model[i]))\n",
    "    \n",
    "plt.figure(figsize=(12,8))\n",
    "plt.boxplot(results,labels=names,showmeans=True);"
   ]
  },
  {
   "cell_type": "markdown",
   "id": "eac0a1fe",
   "metadata": {},
   "source": [
    "Hyperparameter Optimization"
   ]
  },
  {
   "cell_type": "code",
   "execution_count": null,
   "id": "f75a8f98",
   "metadata": {},
   "outputs": [],
   "source": [
    "from sklearn.model_selection import GridSearchCV"
   ]
  },
  {
   "cell_type": "code",
   "execution_count": null,
   "id": "d06ce82c",
   "metadata": {},
   "outputs": [],
   "source": [
    "parameters={'n_estimators':range(150,300,20),\n",
    "            'max_features':[0.4,0.5,0.6,0.7,0.8]}"
   ]
  },
  {
   "cell_type": "code",
   "execution_count": null,
   "id": "26a18af8",
   "metadata": {},
   "outputs": [],
   "source": [
    "model=RandomForestClassifier()\n",
    "cv=RepeatedStratifiedKFold(n_splits=5, n_repeats=3, random_state=1)\n",
    "\n",
    "grid=GridSearchCV(model,parameters,scoring='roc_auc',cv=cv,n_jobs=-1)\n",
    "grid.fit(X_res,y_res)"
   ]
  },
  {
   "cell_type": "code",
   "execution_count": null,
   "id": "cafcf404",
   "metadata": {},
   "outputs": [],
   "source": [
    "grid.best_score_"
   ]
  },
  {
   "cell_type": "code",
   "execution_count": null,
   "id": "106a3ca7",
   "metadata": {},
   "outputs": [],
   "source": [
    "params=grid.best_params_"
   ]
  },
  {
   "cell_type": "markdown",
   "id": "815d2c12",
   "metadata": {},
   "source": [
    "final model pipline"
   ]
  },
  {
   "cell_type": "code",
   "execution_count": null,
   "id": "2fdbb38a",
   "metadata": {},
   "outputs": [],
   "source": [
    "inter=Pipeline([('i',SimpleImputer(strategy='most_frequent')),\n",
    "                ('e',OneHotEncoder()),\n",
    "                ('fs',SelectKBest(score_func=chi2,k=23))])\n",
    "              \n",
    "transformers=[('t',PowerTransformer(),num),\n",
    "              ('inter',inter,cat)]\n",
    "    \n",
    "steps=[('pre',ColumnTransformer(transformers=transformers)),\n",
    "       ('sampling',SMOTEENN(enn=EditedNearestNeighbours(sampling_strategy='majority'))),\n",
    "       ('model',RandomForestClassifier(**params))]"
   ]
  },
  {
   "cell_type": "code",
   "execution_count": null,
   "id": "573eca52",
   "metadata": {},
   "outputs": [],
   "source": [
    "X_train=train.drop(columns=['SK_ID_CURR','OCCUPATION_TYPE','TARGET'],axis=1)\n",
    "y_train=train['TARGET']\n",
    "\n",
    "X_test=df_2.drop(columns=['SK_ID_CURR','OCCUPATION_TYPE'],axis=1)"
   ]
  },
  {
   "cell_type": "code",
   "execution_count": null,
   "id": "bf56fa44",
   "metadata": {},
   "outputs": [],
   "source": [
    "model=Pipeline(steps=steps)\n",
    "model.fit(X_train,y_train)\n",
    "\n",
    "predictions=model.predict(X_test)"
   ]
  },
  {
   "cell_type": "code",
   "execution_count": null,
   "id": "9e016f1f",
   "metadata": {},
   "outputs": [],
   "source": [
    "submission = pd.DataFrame({'SK_ID_CURR':test['SK_ID_CURR'],'TARGET':predictions})\n",
    "submission.head(10)"
   ]
  },
  {
   "cell_type": "code",
   "execution_count": null,
   "id": "5df293c4",
   "metadata": {},
   "outputs": [],
   "source": []
  },
  {
   "cell_type": "code",
   "execution_count": null,
   "id": "2010fb84",
   "metadata": {},
   "outputs": [],
   "source": []
  }
 ],
 "metadata": {
  "kernelspec": {
   "display_name": "Python [conda env:myen]",
   "language": "python",
   "name": "conda-env-myen-py"
  },
  "language_info": {
   "codemirror_mode": {
    "name": "ipython",
    "version": 3
   },
   "file_extension": ".py",
   "mimetype": "text/x-python",
   "name": "python",
   "nbconvert_exporter": "python",
   "pygments_lexer": "ipython3",
   "version": "3.9.13"
  }
 },
 "nbformat": 4,
 "nbformat_minor": 5
}
